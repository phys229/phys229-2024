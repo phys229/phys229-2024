{
 "cells": [
  {
   "cell_type": "markdown",
   "metadata": {
    "tags": []
   },
   "source": [
    "# Monday, Jan. 8, 2024, 2:00 PM"
   ]
  },
  {
   "cell_type": "markdown",
   "metadata": {
    "tags": []
   },
   "source": [
    "**Experiment 01 - Week 01 - Familiarization Notes**\n",
    "\n",
    "**Working with (partner's name)**"
   ]
  },
  {
   "cell_type": "markdown",
   "metadata": {},
   "source": [
    "# Clarify Objective"
   ]
  },
  {
   "cell_type": "markdown",
   "metadata": {},
   "source": [
    "You might need to define the objective yourself  - look at what equipment could do\n",
    "\n",
    "Carefully define everything's physical meaning\n",
    "\n",
    "The experimental set-up suggests an experiment where ...\n",
    "\n",
    "My hypothesis is that ..."
   ]
  },
  {
   "cell_type": "markdown",
   "metadata": {},
   "source": [
    "# Explore Tools"
   ]
  },
  {
   "cell_type": "markdown",
   "metadata": {},
   "source": [
    "List all of your equipment/tools\n",
    "\n",
    "Measurment range\n",
    "\n",
    "Measurment precision\n",
    "\n",
    "Noise sources\n",
    "\n",
    "Other sources of uncertainty\n",
    "\n",
    "Systematic errors"
   ]
  },
  {
   "cell_type": "markdown",
   "metadata": {},
   "source": [
    "# Relate Quantities"
   ]
  },
  {
   "cell_type": "markdown",
   "metadata": {},
   "source": [
    "Think of all of the equations and tools you will need on the path from raw data to a final result.\n",
    "\n",
    "What statistical tools do you need?\n",
    "\n",
    "What graphs will you do?\n",
    "\n",
    "How do I propagate uncertainty to the final result?\n",
    "\n",
    "What other equations do I need?\n",
    "\n",
    "Will I be fitting models? Which models, and how to fit them?\n",
    "\n",
    "Does the analysis that I propose have an impact on how I will take my data?"
   ]
  },
  {
   "cell_type": "markdown",
   "metadata": {},
   "source": [
    "# Test and Try"
   ]
  },
  {
   "cell_type": "markdown",
   "metadata": {},
   "source": [
    "Try a few measurments and take very detailed notes as you go along\n",
    "\n",
    "Try different procedures if you can think of more than one way of doing things\n",
    "\n",
    "Run some test data through your data analysis procedure to see how things work out\n",
    "\n",
    "Evaluate uncertainties and look for ways to improve final result.\n"
   ]
  },
  {
   "cell_type": "markdown",
   "metadata": {},
   "source": [
    "# About this document\n",
    "This is version 1.0 of the Familiarization Notes Template. Last update was Jan 3, 2024"
   ]
  },
  {
   "cell_type": "code",
   "execution_count": null,
   "metadata": {},
   "outputs": [],
   "source": []
  }
 ],
 "metadata": {
  "kernelspec": {
   "display_name": "Python 3",
   "language": "python",
   "name": "python3"
  },
  "language_info": {
   "codemirror_mode": {
    "name": "ipython",
    "version": 3
   },
   "file_extension": ".py",
   "mimetype": "text/x-python",
   "name": "python",
   "nbconvert_exporter": "python",
   "pygments_lexer": "ipython3",
   "version": "3.7.6"
  }
 },
 "nbformat": 4,
 "nbformat_minor": 4
}
